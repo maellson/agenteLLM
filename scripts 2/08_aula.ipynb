{
 "cells": [
  {
   "cell_type": "markdown",
   "metadata": {},
   "source": [
    "# Extraction\n",
    "\n",
    "Outra aplicação comum para funções é a relização de extração de conteúdos do texto informado. Isso facilita o parseamento de informações em grande escala, em que podemos utilizar scripts para limpar textos informados, mantendo apenas o necessário da informação que o usuário necessita. Vamos começar com um exemplo simples, extraindo a informação de datas e acontecimentos de um texto."
   ]
  },
  {
   "cell_type": "markdown",
   "metadata": {},
   "source": [
    "## Extraindo datas e acontecimentos\n",
    "\n",
    "Digamos que temos um texto como o a seguir e queremos extrair datas e acontecimentos que aparecerem no texto:\n"
   ]
  },
  {
   "cell_type": "code",
   "execution_count": 4,
   "metadata": {},
   "outputs": [],
   "source": [
    "texto = '''A Apple foi fundada em 1 de abril de 1976 por Steve Wozniak, Steve Jobs e Ronald Wayne \n",
    "com o nome de Apple Computers, na Califórnia. O nome foi escolhido por Jobs após a visita do pomar \n",
    "de maçãs da fazenda de Robert Friedland, também pelo fato do nome soar bem e ficar antes da Atari \n",
    "nas listas telefônicas.\n",
    "\n",
    "O primeiro protótipo da empresa foi o Apple I que foi demonstrado na Homebrew Computer Club em 1975, \n",
    "as vendas começaram em julho de 1976 com o preço de US$ 666,66, aproximadamente 200 unidades foram \n",
    "vendidas,[21] em 1977 a empresa conseguiu o aporte de Mike Markkula e um empréstimo do Bank of America.'''"
   ]
  },
  {
   "cell_type": "code",
   "execution_count": 2,
   "metadata": {},
   "outputs": [
    {
     "data": {
      "text/plain": [
       "{'name': 'ListaAcontecimentos',\n",
       " 'description': 'Acontecimentos para extração',\n",
       " 'parameters': {'type': 'object',\n",
       "  'properties': {'acontecimentos': {'description': 'Lista de acontecimentos presentes no texto informado',\n",
       "    'type': 'array',\n",
       "    'items': {'description': 'Informação sobre um acontecimento',\n",
       "     'type': 'object',\n",
       "     'properties': {'data': {'description': 'Data do acontecimento no formato YYYY-MM-DD',\n",
       "       'type': 'string'},\n",
       "      'acontecimento': {'description': 'Acontecimento ecxtraído do texto',\n",
       "       'type': 'string'}},\n",
       "     'required': ['data', 'acontecimento']}}},\n",
       "  'required': ['acontecimentos']}}"
      ]
     },
     "execution_count": 2,
     "metadata": {},
     "output_type": "execute_result"
    }
   ],
   "source": [
    "from langchain.pydantic_v1 import BaseModel, Field\n",
    "from typing import List\n",
    "from langchain_core.utils.function_calling import convert_to_openai_function\n",
    "\n",
    "class Acontecimento(BaseModel):\n",
    "    '''Informação sobre um acontecimento'''\n",
    "    data: str = Field(description='Data do acontecimento no formato YYYY-MM-DD')\n",
    "    acontecimento: str = Field(description='Acontecimento ecxtraído do texto')\n",
    "\n",
    "class ListaAcontecimentos(BaseModel):\n",
    "    \"\"\"Acontecimentos para extração\"\"\"\n",
    "    acontecimentos: List[Acontecimento] = Field(description='Lista de acontecimentos presentes no texto informado')\n",
    "\n",
    "tool_acontecimentos = convert_to_openai_function(ListaAcontecimentos)\n",
    "tool_acontecimentos"
   ]
  },
  {
   "cell_type": "code",
   "execution_count": 3,
   "metadata": {},
   "outputs": [],
   "source": [
    "from langchain.prompts import ChatPromptTemplate\n",
    "from langchain_openai import ChatOpenAI\n",
    "\n",
    "prompt = ChatPromptTemplate.from_messages([\n",
    "    ('system', 'Extraia as frases de acontecimentos. Elas devem ser extraídas integralmente'),\n",
    "    ('user', '{input}')\n",
    "])\n",
    "chat = ChatOpenAI()\n",
    "\n",
    "chain = (prompt \n",
    "         | chat.bind(functions=[tool_acontecimentos], function_call={'name': 'ListaAcontecimentos'}))\n"
   ]
  },
  {
   "cell_type": "code",
   "execution_count": 5,
   "metadata": {},
   "outputs": [
    {
     "data": {
      "text/plain": [
       "AIMessage(content='', additional_kwargs={'function_call': {'arguments': '{\"acontecimentos\":[{\"data\":\"1976-04-01\",\"acontecimento\":\"A Apple foi fundada por Steve Wozniak, Steve Jobs e Ronald Wayne.\"},{\"data\":\"1975-07\",\"acontecimento\":\"Início das vendas do Apple I com o preço de US$ 666,66.\"},{\"data\":\"1977\",\"acontecimento\":\"A Apple recebeu aporte de Mike Markkula e um empréstimo do Bank of America.\"}]}', 'name': 'ListaAcontecimentos'}}, response_metadata={'token_usage': {'completion_tokens': 101, 'prompt_tokens': 325, 'total_tokens': 426}, 'model_name': 'gpt-3.5-turbo', 'system_fingerprint': None, 'finish_reason': 'stop', 'logprobs': None}, id='run-ad3b401a-654f-4d2a-b120-630b0d964429-0')"
      ]
     },
     "execution_count": 5,
     "metadata": {},
     "output_type": "execute_result"
    }
   ],
   "source": [
    "chain.invoke({'input': texto})"
   ]
  },
  {
   "cell_type": "code",
   "execution_count": 6,
   "metadata": {},
   "outputs": [
    {
     "data": {
      "text/plain": [
       "{'acontecimentos': [{'data': '1976-04-01',\n",
       "   'acontecimento': 'A Apple foi fundada em 1 de abril de 1976 por Steve Wozniak, Steve Jobs e Ronald Wayne com o nome de Apple Computers, na Califórnia.'},\n",
       "  {'data': '1975-07',\n",
       "   'acontecimento': 'As vendas do Apple I começaram em julho de 1976 com o preço de US$ 666,66, aproximadamente 200 unidades foram vendidas.'},\n",
       "  {'data': '1977',\n",
       "   'acontecimento': 'Em 1977 a empresa conseguiu o aporte de Mike Markkula e um empréstimo do Bank of America.'}]}"
      ]
     },
     "execution_count": 6,
     "metadata": {},
     "output_type": "execute_result"
    }
   ],
   "source": [
    "from langchain.output_parsers.openai_functions import JsonOutputFunctionsParser\n",
    "\n",
    "chain = (prompt \n",
    "         | chat.bind(functions=[tool_acontecimentos], function_call={'name': 'ListaAcontecimentos'})\n",
    "         | JsonOutputFunctionsParser())\n",
    "\n",
    "chain.invoke({'input': texto})"
   ]
  },
  {
   "cell_type": "code",
   "execution_count": 7,
   "metadata": {},
   "outputs": [
    {
     "data": {
      "text/plain": [
       "[{'data': '1976-04-01',\n",
       "  'acontecimento': 'Apple foi fundada por Steve Wozniak, Steve Jobs e Ronald Wayne.'},\n",
       " {'data': '1975',\n",
       "  'acontecimento': 'Demonstração do primeiro protótipo da empresa, o Apple I, na Homebrew Computer Club.'},\n",
       " {'data': '1976-07',\n",
       "  'acontecimento': 'Início das vendas do Apple I com o preço de US$ 666,66.'},\n",
       " {'data': '1977',\n",
       "  'acontecimento': 'Empresa recebeu aporte de Mike Markkula e empréstimo do Bank of America.'}]"
      ]
     },
     "execution_count": 7,
     "metadata": {},
     "output_type": "execute_result"
    }
   ],
   "source": [
    "from langchain.output_parsers.openai_functions import JsonKeyOutputFunctionsParser\n",
    "\n",
    "chain = (prompt \n",
    "         | chat.bind(functions=[tool_acontecimentos], function_call={'name': 'ListaAcontecimentos'})\n",
    "         | JsonKeyOutputFunctionsParser(key_name='acontecimentos'))\n",
    "\n",
    "chain.invoke({'input': texto})"
   ]
  },
  {
   "cell_type": "markdown",
   "metadata": {},
   "source": [
    "## Extraindo informações da web\n",
    "\n",
    "A aplicação de extração pode ser muito utilizanda quando combinada com técnicas de WebScraping. Em geral, em WebScraping estamos buscando informações em páginas web. Em sua grande maioria, essas informações virão comletamente desformatadas e em html, o que dificulta a utilização da informação. Podemos criar aplicações utilizando as técnicas que aprendemos para conseguir as informações específicas que precisamos das páginas que estamos analisando.\n",
    "\n",
    "Vamos dar um exemplo analisando a página de blog da Asimov e tentando extrair todas os posts contidos na página.\n",
    "https://hub.asimov.academy/blog/\n"
   ]
  },
  {
   "cell_type": "code",
   "execution_count": 8,
   "metadata": {},
   "outputs": [
    {
     "data": {
      "text/plain": [
       "[Document(page_content='\\n\\n\\n\\n\\n\\n\\nBlog | Asimov Academy\\n\\n\\n\\n\\n\\n\\n\\n\\n\\n\\n\\n\\n\\n\\n\\n\\n\\n\\n\\n\\n\\n\\n\\n\\n\\n\\n\\n\\n\\n\\n\\n\\n\\n\\n\\n\\n\\n\\n\\n\\n\\n\\n\\n\\n\\n\\n\\n\\n\\n\\n\\n\\n\\n\\n\\n\\n\\n\\n\\n\\n\\n\\n\\n\\n\\n\\n\\n\\n\\n\\n\\n\\n\\n\\n\\n\\n\\n\\n\\n \\n\\n\\n\\n \\n\\n\\n\\nHome\\n\\n\\nTrilhas \\n\\n\\n\\nTrilha Aplicações IA com Python\\nTrilha Dashboards com Python\\nTrilha Python Office\\nTrilha Visão Computacional\\nTrilha Data Science e Machine Learning\\nTrilha Trading Quantitativo\\n\\n\\n\\nCursos\\n\\n\\nProjetos\\n\\n\\nEntrar\\n\\n\\n\\n\\nMatricule-se\\n\\n\\n\\n\\n\\n Blog da Asimov \\n\\n\\n \\n\\n \\n\\n \\n\\n \\n\\n\\n\\n\\n\\n\\n\\n Python ou Power BI: qual ferramenta é melhor para criar dashboards? \\n Renata Lopes• 23-05-24 \\n\\n\\n\\n\\n\\n Try e Except em Python - Entenda como lidar com erros \\n Adriano Soares• 22-05-24 \\n\\n\\n\\n\\n\\n Print em Python: entenda o que é a função print e onde usá-la \\n Juliano Faccioni• 21-05-24 \\n\\n\\n\\n\\n\\n Exemplos de programas em Python - Aprenda fazendo \\n Adriano Soares• 16-05-24 \\n\\n\\n\\n\\n\\n Qual linguagem de programação aprender? Guia completo para iniciantes \\n Renata Lopes• 15-05-24 \\n\\n\\n\\n\\n\\n Lambda Python: o que é uma função lambda (anônima)? \\n Juliano Faccioni• 14-05-24 \\n\\n\\n\\n\\n\\n Melhor curso de Python: como escolher? \\n Renata Lopes• 07-05-24 \\n\\n\\n\\n\\n\\n If, elif e else: entendendo as estruturas condicionais em Python \\n Adriano Soares• 07-05-24 \\n\\n\\n\\n\\n\\n Input Python: conheça a função de entrada de dados em Python \\n Juliano Faccioni• 07-05-24 \\n\\n\\n\\n\\n\\n Range em Python: descubra o que é a função range e como usá-la \\n Juliano Faccioni• 06-05-24 \\n\\n\\n\\n\\n\\n While em Python: o que é e como funciona \\n Adriano Soares• 06-05-24 \\n\\n\\n\\n\\n\\n Melhor IDE para Python: Qual é o melhor editor de código Python? \\n Juliano Faccioni• 26-04-24 \\n\\n\\n\\n\\n\\n Como aprender Python de graça: 12 sites do zero ao avançado \\n Renata Lopes• 24-04-24 \\n\\n\\n\\n\\n\\n Bibliotecas Python: descubra o que são e como utilizá-las \\n Juliano Faccioni• 18-04-24 \\n\\n\\n\\n\\n\\n Salário de desenvolvedor Python: mercado para júnior, pleno e sênior \\n Renata Lopes• 17-04-24 \\n\\n\\n\\n\\n\\n Lista em Python: o que são e como funcionam \\n Renata Lopes• 12-04-24 \\n\\n\\n\\n\\n\\n Asimov Academy vale a pena? Veja 12 motivos para ser aluno \\n Renata Lopes• 12-04-24 \\n\\n\\n\\n\\n\\n Exercícios de Python: 10 questões com solução para iniciantes \\n Juliano Faccioni• 03-04-24 \\n\\n\\n\\n\\n\\n Python: o que é e para que serve essa linguagem de programação? \\n Renata Lopes• 03-04-24 \\n\\n\\n\\n\\n\\n Dicionário em Python: o guia definitivo para iniciantes \\n Renata Lopes• 03-04-24 \\n\\n\\n\\n\\n\\n Estilo de Código em Python - Como melhorar seu código com PEP8 \\n Adriano Soares• 20-03-24 \\n\\n\\n\\n123›\\n\\n\\n\\n\\nTodos os direitos reservados. Políticas de Privacidade - Termos de Uso\\n\\n \\n\\n\\n\\n\\n\\n\\n\\n\\n\\n\\n\\n\\n', metadata={'source': 'https://hub.asimov.academy/blog/', 'title': 'Blog | Asimov Academy', 'language': 'pt-BR'})]"
      ]
     },
     "execution_count": 8,
     "metadata": {},
     "output_type": "execute_result"
    }
   ],
   "source": [
    "from langchain_community.document_loaders.web_base import WebBaseLoader\n",
    "\n",
    "loader = WebBaseLoader('https://hub.asimov.academy/blog/')\n",
    "page = loader.load()\n",
    "page"
   ]
  },
  {
   "cell_type": "code",
   "execution_count": 9,
   "metadata": {},
   "outputs": [
    {
     "data": {
      "text/plain": [
       "{'name': 'BlogSite',\n",
       " 'description': 'Lista de blog posts de um site',\n",
       " 'parameters': {'type': 'object',\n",
       "  'properties': {'posts': {'description': 'Lista de posts de blog do site',\n",
       "    'type': 'array',\n",
       "    'items': {'description': 'Informações sobre um post de blog',\n",
       "     'type': 'object',\n",
       "     'properties': {'titulo': {'description': 'O título do post de blog',\n",
       "       'type': 'string'},\n",
       "      'autor': {'description': 'O autor do post de blog', 'type': 'string'},\n",
       "      'data': {'description': 'A data de publicação do post de blog',\n",
       "       'type': 'string'}},\n",
       "     'required': ['titulo', 'autor', 'data']}}},\n",
       "  'required': ['posts']}}"
      ]
     },
     "execution_count": 9,
     "metadata": {},
     "output_type": "execute_result"
    }
   ],
   "source": [
    "from langchain.pydantic_v1 import BaseModel, Field\n",
    "from typing import List\n",
    "from langchain_core.utils.function_calling import convert_to_openai_function\n",
    "\n",
    "class BlogPost(BaseModel):\n",
    "    '''Informações sobre um post de blog'''\n",
    "    titulo: str = Field(description='O título do post de blog')\n",
    "    autor: str = Field(description='O autor do post de blog')\n",
    "    data: str = Field(description='A data de publicação do post de blog')\n",
    "\n",
    "class BlogSite(BaseModel):\n",
    "    '''Lista de blog posts de um site'''\n",
    "    posts: List[BlogPost] = Field(description='Lista de posts de blog do site')\n",
    "\n",
    "tool_blog = convert_to_openai_function(BlogSite)\n",
    "tool_blog"
   ]
  },
  {
   "cell_type": "code",
   "execution_count": 10,
   "metadata": {},
   "outputs": [],
   "source": [
    "from langchain.output_parsers.openai_functions import JsonKeyOutputFunctionsParser\n",
    "from langchain.prompts import ChatPromptTemplate\n",
    "from langchain_openai import ChatOpenAI\n",
    "\n",
    "prompt = ChatPromptTemplate.from_messages([\n",
    "    ('system', 'Extraia da página todos os posts de blog com autor e data de publicação'),\n",
    "    ('user', '{input}')\n",
    "])\n",
    "chat = ChatOpenAI()\n",
    "chain = (prompt \n",
    "         | chat.bind(functions=[tool_blog], function_call={'name': 'BlogSite'})\n",
    "         | JsonKeyOutputFunctionsParser(key_name='posts'))\n"
   ]
  },
  {
   "cell_type": "code",
   "execution_count": 11,
   "metadata": {},
   "outputs": [
    {
     "data": {
      "text/plain": [
       "[{'titulo': 'Python ou Power BI: qual ferramenta é melhor para criar dashboards?',\n",
       "  'autor': 'Renata Lopes',\n",
       "  'data': '23-05-24'},\n",
       " {'titulo': 'Try e Except em Python - Entenda como lidar com erros',\n",
       "  'autor': 'Adriano Soares',\n",
       "  'data': '22-05-24'},\n",
       " {'titulo': 'Print em Python: entenda o que é a função print e onde usá-la',\n",
       "  'autor': 'Juliano Faccioni',\n",
       "  'data': '21-05-24'},\n",
       " {'titulo': 'Exemplos de programas em Python - Aprenda fazendo',\n",
       "  'autor': 'Adriano Soares',\n",
       "  'data': '16-05-24'},\n",
       " {'titulo': 'Qual linguagem de programação aprender? Guia completo para iniciantes',\n",
       "  'autor': 'Renata Lopes',\n",
       "  'data': '15-05-24'},\n",
       " {'titulo': 'Lambda Python: o que é uma função lambda (anônima)?',\n",
       "  'autor': 'Juliano Faccioni',\n",
       "  'data': '14-05-24'},\n",
       " {'titulo': 'Melhor curso de Python: como escolher?',\n",
       "  'autor': 'Renata Lopes',\n",
       "  'data': '07-05-24'},\n",
       " {'titulo': 'If, elif e else: entendendo as estruturas condicionais em Python',\n",
       "  'autor': 'Adriano Soares',\n",
       "  'data': '07-05-24'},\n",
       " {'titulo': 'Input Python: conheça a função de entrada de dados em Python',\n",
       "  'autor': 'Juliano Faccioni',\n",
       "  'data': '07-05-24'},\n",
       " {'titulo': 'Range em Python: descubra o que é a função range e como usá-la',\n",
       "  'autor': 'Juliano Faccioni',\n",
       "  'data': '06-05-24'},\n",
       " {'titulo': 'While em Python: o que é e como funciona',\n",
       "  'autor': 'Adriano Soares',\n",
       "  'data': '06-05-24'},\n",
       " {'titulo': 'Melhor IDE para Python: Qual é o melhor editor de código Python?',\n",
       "  'autor': 'Juliano Faccioni',\n",
       "  'data': '26-04-24'},\n",
       " {'titulo': 'Como aprender Python de graça: 12 sites do zero ao avançado',\n",
       "  'autor': 'Renata Lopes',\n",
       "  'data': '24-04-24'},\n",
       " {'titulo': 'Bibliotecas Python: descubra o que são e como utilizá-las',\n",
       "  'autor': 'Juliano Faccioni',\n",
       "  'data': '18-04-24'},\n",
       " {'titulo': 'Salário de desenvolvedor Python: mercado para júnior, pleno e sênior',\n",
       "  'autor': 'Renata Lopes',\n",
       "  'data': '17-04-24'},\n",
       " {'titulo': 'Lista em Python: o que são e como funcionam',\n",
       "  'autor': 'Renata Lopes',\n",
       "  'data': '12-04-24'},\n",
       " {'titulo': 'Asimov Academy vale a pena? Veja 12 motivos para ser aluno',\n",
       "  'autor': 'Renata Lopes',\n",
       "  'data': '12-04-24'},\n",
       " {'titulo': 'Exercícios de Python: 10 questões com solução para iniciantes',\n",
       "  'autor': 'Juliano Faccioni',\n",
       "  'data': '03-04-24'},\n",
       " {'titulo': 'Python: o que é e para que serve essa linguagem de programação?',\n",
       "  'autor': 'Renata Lopes',\n",
       "  'data': '03-04-24'},\n",
       " {'titulo': 'Dicionário em Python: o guia definitivo para iniciantes',\n",
       "  'autor': 'Renata Lopes',\n",
       "  'data': '03-04-24'},\n",
       " {'titulo': 'Estilo de Código em Python - Como melhorar seu código com PEP8',\n",
       "  'autor': 'Adriano Soares',\n",
       "  'data': '20-03-24'}]"
      ]
     },
     "execution_count": 11,
     "metadata": {},
     "output_type": "execute_result"
    }
   ],
   "source": [
    "chain.invoke({'input': page})"
   ]
  },
  {
   "cell_type": "code",
   "execution_count": null,
   "metadata": {},
   "outputs": [],
   "source": []
  }
 ],
 "metadata": {
  "kernelspec": {
   "display_name": ".venv",
   "language": "python",
   "name": "python3"
  },
  "language_info": {
   "codemirror_mode": {
    "name": "ipython",
    "version": 3
   },
   "file_extension": ".py",
   "mimetype": "text/x-python",
   "name": "python",
   "nbconvert_exporter": "python",
   "pygments_lexer": "ipython3",
   "version": "3.11.4"
  }
 },
 "nbformat": 4,
 "nbformat_minor": 2
}
