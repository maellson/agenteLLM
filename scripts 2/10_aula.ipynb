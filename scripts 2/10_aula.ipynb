{
 "cells": [
  {
   "cell_type": "markdown",
   "metadata": {},
   "source": [
    "# Exemplos de tools funcionais\n",
    "\n",
    "Agora vamos abordar a criação de duas tools com utilidade real para você entender como seria todo o processo."
   ]
  },
  {
   "cell_type": "markdown",
   "metadata": {},
   "source": [
    "## Criando um tool de busca de temperatura\n",
    "\n",
    "https://open-meteo.com/en/docs"
   ]
  },
  {
   "cell_type": "code",
   "execution_count": 3,
   "metadata": {},
   "outputs": [],
   "source": [
    "import requests\n",
    "import datetime\n",
    "\n",
    "from langchain.agents import tool\n",
    "from langchain.pydantic_v1 import BaseModel, Field\n",
    "\n",
    "class RetornTempArgs(BaseModel):\n",
    "    latitude: float = Field(description='Latitude da localidade que buscamos a temperatura')\n",
    "    longitude: float = Field(description='Longitude da localidade que buscamos a temperatura')\n",
    "\n",
    "\n",
    "@tool(args_schema=RetornTempArgs)\n",
    "def retorna_temperatura_atual(latitude: float, longitude: float):\n",
    "    '''Retorna a temperatura atual para uma dada coordenada'''\n",
    "\n",
    "    URL = 'https://api.open-meteo.com/v1/forecast'\n",
    "\n",
    "    params = {\n",
    "        'latitude': latitude,\n",
    "        'longitude': longitude,\n",
    "        'hourly': 'temperature_2m',\n",
    "        'forecast_days': 1,\n",
    "    }\n",
    "\n",
    "    resposta = requests.get(URL, params=params)\n",
    "    if resposta.status_code == 200:\n",
    "        resultado = resposta.json()\n",
    "        \n",
    "        hora_agora = datetime.datetime.now(datetime.UTC).replace(tzinfo=None)\n",
    "        lista_horas = [datetime.datetime.fromisoformat(temp_str) for temp_str in resultado['hourly']['time']]\n",
    "        index_mais_prox = min(range(len(lista_horas)), key=lambda x: abs(lista_horas[x] - hora_agora))\n",
    "\n",
    "        temp_atual = resultado['hourly']['temperature_2m'][index_mais_prox]\n",
    "        return temp_atual\n",
    "    else:\n",
    "        raise Exception(f'Request para API {URL} falhou: {resposta.status_code}')\n"
   ]
  },
  {
   "cell_type": "code",
   "execution_count": 4,
   "metadata": {},
   "outputs": [
    {
     "data": {
      "text/plain": [
       "StructuredTool(name='retorna_temperatura_atual', description='retorna_temperatura_atual(latitude: float, longitude: float) - Retorna a temperatura atual para uma dada coordenada', args_schema=<class '__main__.RetornTempArgs'>, func=<function retorna_temperatura_atual at 0x0000018C57F1CA40>)"
      ]
     },
     "execution_count": 4,
     "metadata": {},
     "output_type": "execute_result"
    }
   ],
   "source": [
    "retorna_temperatura_atual"
   ]
  },
  {
   "cell_type": "code",
   "execution_count": 5,
   "metadata": {},
   "outputs": [
    {
     "data": {
      "text/plain": [
       "{'latitude': {'title': 'Latitude',\n",
       "  'description': 'Latitude da localidade que buscamos a temperatura',\n",
       "  'type': 'number'},\n",
       " 'longitude': {'title': 'Longitude',\n",
       "  'description': 'Longitude da localidade que buscamos a temperatura',\n",
       "  'type': 'number'}}"
      ]
     },
     "execution_count": 5,
     "metadata": {},
     "output_type": "execute_result"
    }
   ],
   "source": [
    "retorna_temperatura_atual.args"
   ]
  },
  {
   "cell_type": "markdown",
   "metadata": {},
   "source": [
    "### Testando a tool"
   ]
  },
  {
   "cell_type": "code",
   "execution_count": 7,
   "metadata": {},
   "outputs": [
    {
     "data": {
      "text/plain": [
       "20.3"
      ]
     },
     "execution_count": 7,
     "metadata": {},
     "output_type": "execute_result"
    }
   ],
   "source": [
    "retorna_temperatura_atual.invoke({'latitude': -30, 'longitude': -50})"
   ]
  },
  {
   "cell_type": "markdown",
   "metadata": {},
   "source": [
    "## Criando um tool de busca no wikipedia"
   ]
  },
  {
   "cell_type": "code",
   "execution_count": 18,
   "metadata": {},
   "outputs": [],
   "source": [
    "import wikipedia\n",
    "wikipedia.set_lang('pt')\n",
    "\n",
    "@tool\n",
    "def busca_wikipedia(query: str):\n",
    "    \"\"\"Faz busca no wikipedia e retorna resumos de páginas para a query\"\"\"\n",
    "    titulos_paginas = wikipedia.search(query)\n",
    "    resumos = []\n",
    "    for titulo in titulos_paginas[:3]:\n",
    "        try:\n",
    "            wiki_page = wikipedia.page(title=titulo, auto_suggest=True)\n",
    "            resumos.append(f'Título da página: {titulo}\\nResumo: {wiki_page.summary}')\n",
    "        except:\n",
    "            pass\n",
    "    if not resumos:\n",
    "        return 'Busca não teve retorno'\n",
    "    else:\n",
    "        return '\\n\\n'.join(resumos)"
   ]
  },
  {
   "cell_type": "code",
   "execution_count": 19,
   "metadata": {},
   "outputs": [
    {
     "data": {
      "text/plain": [
       "'Título da página: Futebol\\nResumo: O futebol, também referido como futebol de campo, futebol de onze e, originalmente, futebol associado (em inglês: association football, football, soccer), é um esporte de equipe jogado entre dois times de 11 jogadores cada um e um árbitro que se ocupa da correta aplicação das normas. É considerado o desporto mais popular do mundo, pois cerca de 270 milhões de pessoas participam das suas várias competições. É jogado num campo retangular gramado, com uma baliza em cada lado do campo. O objetivo do jogo é deslocar uma bola através do campo para colocá-la dentro da baliza adversária, ação que se denomina golo (português europeu) ou gol (português brasileiro). A equipe que marca mais gols ao término da partida é a vencedora.\\nO jogo moderno foi criado na Inglaterra com a formação de The Football Association, cujas regras de 1863 são a base do desporto na atualidade. O órgão regente do futebol é a Federação Internacional de Futebol (em francês: Fédération Internationale de Football Association), mais conhecida pelo acrônimo FIFA. A principal competição internacional de futebol é a Copa do Mundo FIFA, realizada a cada quatro anos. Este evento é o mais famoso e com maior quantidade de espectadores do mundo, o dobro da audiência dos Jogos Olímpicos.\\n\\nTítulo da página: Campeonato Brasileiro de Futebol\\nResumo: O Campeonato Brasileiro de Futebol, também conhecido como Campeonato Brasileiro, Brasileirão e Série A, é a liga brasileira de futebol profissional entre clubes do Brasil, sendo a principal competição futebolística no país. É por meio dela que são indicados os representantes brasileiros para a Copa Libertadores da América (juntamente com o campeão da Copa do Brasil). O campeão do torneio também conquista uma vaga na Supercopa do Brasil no ano seguinte.\\nAo contrário do que ocorrera em outros países da América do Sul, houve muitos desafios para que o futebol no Brasil tivesse um sistema de disputa em nível federal. Além da grande dimensão geográfica do país, contribuíram para essa situação a origem e a consolidação do futebol no país a partir dos grandes centros urbanos, algo que fortaleceu uma organização por federações estaduais; as intensas rivalidades pelo poder entre dirigentes paulistas e cariocas, os maiores centros futebolísticos do Brasil; e a própria postura da Confederação Brasileira de Desportos (CBD, precursora da atual Confederação Brasileira de Futebol), a então entidade responsável pelo futebol nacional e que tinha mais interesse em arrecadar com o modelo de um Campeonato Brasileiro entre Seleções Estaduais, originalmente a nomenclatura \"Campeonato Brasileiro de Futebol\" pertencia a essa disputa, jogada de forma descontínua entre 1922 e 1962, além de uma edição em 1987. Em 1937, surge a primeira disputa nacional de clubes profissionais, o Torneio dos Campeões da FBF (liga de dissidentes e defensora da profissionalização), reconhecido pela CBF, em 2023, como Campeonato Brasileiro. Antes, houve o Campeonato Brasileiro de Clubes Campeões, triangular da CBD jogado em 1920, em pleno amadorismo. Apenas em 1959, como estabelecido em 1955, a CBD cria um torneio nacional regular de clubes profissionais, a Taça Brasil. Em 1967, o Torneio Rio-São Paulo foi expandido para incluir equipes de outros estados, ficando conhecido como Torneio Roberto Gomes Pedrosa, e passando a ser considerado uma competição nacional. Em 1971, a CBD iniciou um novo torneio nacional, o Campeonato Nacional de Clubes, torneio este, que foi considerado, entre 1976 e 2010, pela entidade máxima do futebol brasileiro como sendo a primeira edição do Campeonato Brasileiro. Em seus boletins oficiais entre 1971 e 1975, a CBD colocava as edições do Torneio Roberto Gomes Pedrosa/Taça de Prata em igualdade de condições com as edições posteriores do Campeonato Brasileiro, apenas mantendo os nomes próprios, excluindo esta informação a partir do boletim de 1976. O primeiro Campeonato Brasileiro oficialmente com esse nome foi realizado em 1989. Em dezembro de 2010, a CBF unificou a Taça Brasil (1959 a 1968) e o Torneio Roberto Gomes Pedrosa/Taça de Prata (1967 a 1970) aos títulos a partir de 1971.\\nUma das características históricas do Campeonato Brasileiro foi a falta de uma padronização no sistema de disputa, que mudava a cada ano, assim como as regras e o número de participantes. Por conta disso, em diversas temporadas não havia sistema de acesso e descenso para a Segunda Divisão, ao mesmo tempo em que houve edições as quais o regulamento previa, no mesmo ano, o acesso das equipes com melhor campanha para a Primeira Divisão. Somente na década de 1990, a CBF instituiu um sistema mais regular entre diferentes divisões. Dentre os vários formatos já adotados incluem-se sistema eliminatório (1959–1968) e sistemas mistos de grupos (1967–2002). A fórmula de disputa do campeonato foi padronizada somente em 2003, quando foi adotado o sistema de pontos corridos com todas as equipes se enfrentando em turno e returno. O primeiro campeão brasileiro foi o Atlético Mineiro em 1937, enquanto o Palmeiras é o clube que detém o maior número de títulos brasileiros, com doze conquistas; Desde sua edição pioneira em 1937, dezessete clubes já foram campeões brasileiros, treze por mais de uma vez, de sete estados e nove cidades diferentes, sendo que apenas o estado de São Paulo teve campeão por mais de uma cidade, três no total (Campinas, Santos e São Paulo), e apenas a cidade do Rio de Janeiro teve mais de três clubes campeões, quatro deles (Botafogo, Flamengo, Fluminense e Vasco da Gama), características estas que demonstram o nível de competitividade do campeonato.\\nO Campeonato Brasileiro é uma das ligas mais fortes do mundo, sendo a liga mais valiosa do continente americano e a sétima do mundo, contando entre seus integrantes habituais com a participação do maior número de clubes detentores de títulos de \"campeões mundiais\", com onze campeonatos ganhos por sete clubes, o segundo em termos de quantidade de títulos da Copa Libertadores da América, com vinte e três títulos conquistados por onze clubes e ainda outros três finalistas, atrás em títulos apenas da Primera División Argentina, com 25 títulos conquistados por oito clubes e mais dois clubes finalistas. Nos últimos anos, o Brasileirão vem sendo também classificado como um dos campeonatos nacionais mais valiosos do mundo. Por conta disso, a Série A do Campeonato Brasileiro é reconhecida como uma das ligas nacionais mais equilibradas do mundo. De acordo com o ranking da Federação Internacional de História e Estatísticas do Futebol (IFFHS, na sua sigla em inglês), é um dos cinco campeonatos mais fortes do mundo — no relatório de 2020, esteve somente atrás da Premier League inglesa. É ainda o torneio de futebol mais visto no continente americano e um dos mais expostos internacionalmente, transmitido para mais de 150 países.\\n\\nTítulo da página: São Paulo Futebol Clube\\nResumo: O São Paulo Futebol Clube, mais conhecido como São Paulo FC ou simplesmente São Paulo, é um clube poliesportivo brasileiro da cidade de São Paulo, capital do estado homônimo. Foi fundado em 25 de janeiro de 1930, tendo interrompido suas atividades em maio de 1935, e as retomado em dezembro do mesmo ano.\\nNo futebol, é um dos clubes mais bem sucedidos do Brasil, sendo que, dentre seus principais títulos, destacam-se duas Copas Intercontinentais e uma Copa do Mundo de Clubes da FIFA (três mundiais, recorde absoluto a nível nacional), três Copas Libertadores (recorde nacional compartilhado com Flamengo, Grêmio, Palmeiras e Santos), uma Copa Sul-Americana, seis Campeonatos Brasileiros, uma Copa do Brasil e vinte e dois Campeonatos Paulistas. Quanto a títulos internacionais, o São Paulo, com 12 conquistas, é o terceiro clube da América do Sul com o maior número de troféus, ficando atrás somente de Boca Juniors e Independiente. No que diz respeito ao somatório de títulos oficiais de abrangência nacional e internacional de clubes brasileiros, em fevereiro de 2024, o São Paulo figurava como o terceiro maior campeão do Brasil, com 20 conquistas, atrás apenas do Palmeiras (com 24 conquistas) e do Flamengo (com 21); o São Paulo se tornou em 2024 o único a conquistar todos os títulos atualmente em disputa que um clube brasileiro pode vencer.\\nA agremiação também possui tradição em outros esportes que não o futebol, como no atletismo, no qual seu atleta na modalidade salto triplo, Adhemar Ferreira da Silva, foi o primeiro bicampeão olímpico do país (Olimpíadas de Helsinque em 1952 – em que superou o recorde mundial na modalidade – e Olimpíadas de Melbourne em 1956). Depois de Helsinque, Adhemar superou pela segunda vez o recorde mundial na modalidade, nos Jogos Pan-Americanos do México em 1955. Esses recordes são representados pelas duas estrelas douradas no escudo do clube.\\nNo Ranking da CBF de dezembro de 2023, que mede apenas o desempenho dos últimos cinco anos, o São Paulo figura em 3º lugar. No Ranking CONMEBOL de dezembro de 2023, que leva em conta apenas os resultados obtidos nas últimas dez edições de competições organizadas na América do Sul pela entidade, o São Paulo aparece em 9º e é o 5º entre os clubes brasileiros. Já em março de 2024, para a IFFHS, órgão de estatística reconhecido pela FIFA e que produz anualmente um ranking de clubes, o Tricolor Paulista é o 24º melhor clube do mundo, 5º da América do Sul e 4º melhor do Brasil. A mesma IFFHS elegeu o São Paulo como o melhor time brasileiro da década de 2001–2010, e o segundo na América do Sul, atrás do Boca Juniors, da Argentina. O São Paulo também é um dos dois clubes do chamado G-12 que nunca foram rebaixados para a segunda divisão no Campeonato Brasileiro.\\nDe acordo com estudos da Brand Finance, o São Paulo era o clube brasileiro com maior valor de mercado no ano de 2015, com US$ 95 milhões (cerca de R$ 296 milhões), sendo o 43º entre os 50 primeiros colocados mundialmente. Já a empresa BDO Brasil apontou em 2018 que a marca do clube era a quarta de maior valor no Brasil, ultrapassando R$ 1,1 bilhão.\\nEm 25 de outubro de 2006, foi sancionada na cidade de São Paulo a lei nº 14 229 de 11 de outubro do mesmo ano, cujo projeto de lei era de nº 648 de 2005, na qual fica definido que no dia 16 de dezembro de cada ano será comemorado o \"Dia Tricolor\", homenageando, dessa maneira, a data de refundação do clube.'"
      ]
     },
     "execution_count": 19,
     "metadata": {},
     "output_type": "execute_result"
    }
   ],
   "source": [
    "busca_wikipedia.invoke({'query': 'futebol'})"
   ]
  },
  {
   "cell_type": "markdown",
   "metadata": {},
   "source": [
    "### Testando a tool"
   ]
  },
  {
   "cell_type": "code",
   "execution_count": 21,
   "metadata": {},
   "outputs": [],
   "source": [
    "from langchain.prompts import ChatPromptTemplate\n",
    "from langchain_openai import ChatOpenAI\n",
    "from langchain_core.utils.function_calling import convert_to_openai_function\n",
    "\n",
    "prompt = ChatPromptTemplate.from_messages([\n",
    "    ('system', 'Você é um assistente amigável chamado Isaac'),\n",
    "    ('user', '{input}')\n",
    "])\n",
    "chat = ChatOpenAI()\n",
    "\n",
    "tools = [convert_to_openai_function(busca_wikipedia), convert_to_openai_function(retorna_temperatura_atual)]\n",
    "chain = prompt | chat.bind(functions=tools)\n"
   ]
  },
  {
   "cell_type": "code",
   "execution_count": 22,
   "metadata": {},
   "outputs": [
    {
     "data": {
      "text/plain": [
       "AIMessage(content='Olá! Como posso ajudar você hoje?', response_metadata={'token_usage': {'completion_tokens': 12, 'prompt_tokens': 148, 'total_tokens': 160}, 'model_name': 'gpt-3.5-turbo', 'system_fingerprint': None, 'finish_reason': 'stop', 'logprobs': None}, id='run-81757f8e-4e55-44e8-aac4-9f0f1d8aa09f-0')"
      ]
     },
     "execution_count": 22,
     "metadata": {},
     "output_type": "execute_result"
    }
   ],
   "source": [
    "chain.invoke({'input': 'Olá'})"
   ]
  },
  {
   "cell_type": "code",
   "execution_count": 23,
   "metadata": {},
   "outputs": [
    {
     "data": {
      "text/plain": [
       "AIMessage(content='', additional_kwargs={'function_call': {'arguments': '{\"latitude\":-30.0346,\"longitude\":-51.2177}', 'name': 'retorna_temperatura_atual'}}, response_metadata={'token_usage': {'completion_tokens': 28, 'prompt_tokens': 156, 'total_tokens': 184}, 'model_name': 'gpt-3.5-turbo', 'system_fingerprint': None, 'finish_reason': 'function_call', 'logprobs': None}, id='run-962073d5-6bd1-4d75-86fc-40f9535288d8-0')"
      ]
     },
     "execution_count": 23,
     "metadata": {},
     "output_type": "execute_result"
    }
   ],
   "source": [
    "chain.invoke({'input': 'Qual é a temperatura de Porto Alegre?'})"
   ]
  },
  {
   "cell_type": "code",
   "execution_count": 24,
   "metadata": {},
   "outputs": [
    {
     "data": {
      "text/plain": [
       "AIMessage(content='', additional_kwargs={'function_call': {'arguments': '{\"query\":\"Isaac Asimov\"}', 'name': 'busca_wikipedia'}}, response_metadata={'token_usage': {'completion_tokens': 20, 'prompt_tokens': 154, 'total_tokens': 174}, 'model_name': 'gpt-3.5-turbo', 'system_fingerprint': None, 'finish_reason': 'function_call', 'logprobs': None}, id='run-1c6dd1a6-a47b-4c5d-887b-beca183fa0a9-0')"
      ]
     },
     "execution_count": 24,
     "metadata": {},
     "output_type": "execute_result"
    }
   ],
   "source": [
    "chain.invoke({'input': 'Quem foi Isaac Asimov?'})"
   ]
  },
  {
   "cell_type": "code",
   "execution_count": null,
   "metadata": {},
   "outputs": [],
   "source": []
  }
 ],
 "metadata": {
  "kernelspec": {
   "display_name": ".venv",
   "language": "python",
   "name": "python3"
  },
  "language_info": {
   "codemirror_mode": {
    "name": "ipython",
    "version": 3
   },
   "file_extension": ".py",
   "mimetype": "text/x-python",
   "name": "python",
   "nbconvert_exporter": "python",
   "pygments_lexer": "ipython3",
   "version": "3.11.4"
  }
 },
 "nbformat": 4,
 "nbformat_minor": 2
}
