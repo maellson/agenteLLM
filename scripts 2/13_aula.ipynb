{
 "cells": [
  {
   "cell_type": "markdown",
   "metadata": {},
   "source": [
    "# Como um Agent é construído\n",
    "\n",
    "A ideia central dos agentes é usar um modelo de linguagem para escolher uma sequência de ações a serem executadas. Em cadeias, uma sequência de ações é codificada diretamente (no código). Em agentes, um modelo de linguagem é usado como um motor de raciocínio para determinar quais ações devem ser tomadas e em qual ordem."
   ]
  },
  {
   "cell_type": "markdown",
   "metadata": {},
   "source": [
    "## Criando as tools que usaremos"
   ]
  },
  {
   "cell_type": "code",
   "execution_count": 18,
   "metadata": {},
   "outputs": [],
   "source": [
    "import requests\n",
    "import datetime\n",
    "\n",
    "from langchain.agents import tool\n",
    "from langchain.pydantic_v1 import BaseModel, Field\n",
    "\n",
    "import wikipedia\n",
    "wikipedia.set_lang('pt')\n",
    "\n",
    "class RetornTempArgs(BaseModel):\n",
    "    latitude: float = Field(description='Latitude da localidade que buscamos a temperatura')\n",
    "    longitude: float = Field(description='Longitude da localidade que buscamos a temperatura')\n",
    "\n",
    "\n",
    "@tool(args_schema=RetornTempArgs)\n",
    "def retorna_temperatura_atual(latitude: float, longitude: float):\n",
    "    '''Retorna a temperatura atual para uma dada coordenada'''\n",
    "\n",
    "    URL = 'https://api.open-meteo.com/v1/forecast'\n",
    "\n",
    "    params = {\n",
    "        'latitude': latitude,\n",
    "        'longitude': longitude,\n",
    "        'hourly': 'temperature_2m',\n",
    "        'forecast_days': 1,\n",
    "    }\n",
    "\n",
    "    resposta = requests.get(URL, params=params)\n",
    "    if resposta.status_code == 200:\n",
    "        resultado = resposta.json()\n",
    "        \n",
    "        hora_agora = datetime.datetime.now(datetime.UTC).replace(tzinfo=None)\n",
    "        lista_horas = [datetime.datetime.fromisoformat(temp_str) for temp_str in resultado['hourly']['time']]\n",
    "        index_mais_prox = min(range(len(lista_horas)), key=lambda x: abs(lista_horas[x] - hora_agora))\n",
    "\n",
    "        temp_atual = resultado['hourly']['temperature_2m'][index_mais_prox]\n",
    "        return f'{temp_atual}ºC'\n",
    "    else:\n",
    "        raise Exception(f'Request para API {URL} falhou: {resposta.status_code}')\n",
    "\n",
    "@tool\n",
    "def busca_wikipedia(query: str):\n",
    "    \"\"\"Faz busca no wikipedia e retorna resumos de páginas para a query\"\"\"\n",
    "    titulos_paginas = wikipedia.search(query)\n",
    "    resumos = []\n",
    "    for titulo in titulos_paginas[:3]:\n",
    "        try:\n",
    "            wiki_page = wikipedia.page(title=titulo, auto_suggest=True)\n",
    "            resumos.append(f'Título da página: {titulo}\\nResumo: {wiki_page.summary}')\n",
    "        except:\n",
    "            pass\n",
    "    if not resumos:\n",
    "        return 'Busca não teve retorno'\n",
    "    else:\n",
    "        return '\\n\\n'.join(resumos)"
   ]
  },
  {
   "cell_type": "markdown",
   "metadata": {},
   "source": [
    "## Revisando a utilização das tools"
   ]
  },
  {
   "cell_type": "code",
   "execution_count": 19,
   "metadata": {},
   "outputs": [],
   "source": [
    "from langchain.prompts import ChatPromptTemplate\n",
    "from langchain_openai import ChatOpenAI\n",
    "from langchain_core.utils.function_calling import convert_to_openai_function\n",
    "\n",
    "prompt = ChatPromptTemplate.from_messages([\n",
    "    ('system', 'Você é um assistente amigável chamado Isaac'),\n",
    "    ('user', '{input}')\n",
    "])\n",
    "chat = ChatOpenAI()\n",
    "\n",
    "tools = [busca_wikipedia, retorna_temperatura_atual]\n",
    "tools_json = [convert_to_openai_function(tool) for tool in tools]\n",
    "tool_run = {tool.name: tool for tool in tools}\n",
    "\n",
    "chain = prompt | chat.bind(functions=tools_json)"
   ]
  },
  {
   "cell_type": "code",
   "execution_count": 20,
   "metadata": {},
   "outputs": [],
   "source": [
    "from langchain.agents.output_parsers import OpenAIFunctionsAgentOutputParser\n",
    "\n",
    "chain = prompt | chat.bind(functions=tools_json) | OpenAIFunctionsAgentOutputParser()"
   ]
  },
  {
   "cell_type": "code",
   "execution_count": 21,
   "metadata": {},
   "outputs": [
    {
     "data": {
      "text/plain": [
       "AgentActionMessageLog(tool='retorna_temperatura_atual', tool_input={'latitude': -27.5953787, 'longitude': -48.5480499}, log=\"\\nInvoking: `retorna_temperatura_atual` with `{'latitude': -27.5953787, 'longitude': -48.5480499}`\\n\\n\\n\", message_log=[AIMessage(content='', additional_kwargs={'function_call': {'arguments': '{\"latitude\":-27.5953787,\"longitude\":-48.5480499}', 'name': 'retorna_temperatura_atual'}}, response_metadata={'token_usage': {'completion_tokens': 30, 'prompt_tokens': 153, 'total_tokens': 183}, 'model_name': 'gpt-3.5-turbo', 'system_fingerprint': None, 'finish_reason': 'function_call', 'logprobs': None}, id='run-9ee389cd-e54e-477d-b466-abee4c4081be-0')])"
      ]
     },
     "execution_count": 21,
     "metadata": {},
     "output_type": "execute_result"
    }
   ],
   "source": [
    "resposta = chain.invoke({'input': 'Qual a temperatura em Floripa?'})\n",
    "resposta"
   ]
  },
  {
   "cell_type": "code",
   "execution_count": 22,
   "metadata": {},
   "outputs": [
    {
     "data": {
      "text/plain": [
       "'retorna_temperatura_atual'"
      ]
     },
     "execution_count": 22,
     "metadata": {},
     "output_type": "execute_result"
    }
   ],
   "source": [
    "resposta.tool"
   ]
  },
  {
   "cell_type": "code",
   "execution_count": 23,
   "metadata": {},
   "outputs": [
    {
     "data": {
      "text/plain": [
       "{'latitude': -27.5953787, 'longitude': -48.5480499}"
      ]
     },
     "execution_count": 23,
     "metadata": {},
     "output_type": "execute_result"
    }
   ],
   "source": [
    "resposta.tool_input"
   ]
  },
  {
   "cell_type": "code",
   "execution_count": 24,
   "metadata": {},
   "outputs": [
    {
     "data": {
      "text/plain": [
       "[AIMessage(content='', additional_kwargs={'function_call': {'arguments': '{\"latitude\":-27.5953787,\"longitude\":-48.5480499}', 'name': 'retorna_temperatura_atual'}}, response_metadata={'token_usage': {'completion_tokens': 30, 'prompt_tokens': 153, 'total_tokens': 183}, 'model_name': 'gpt-3.5-turbo', 'system_fingerprint': None, 'finish_reason': 'function_call', 'logprobs': None}, id='run-9ee389cd-e54e-477d-b466-abee4c4081be-0')]"
      ]
     },
     "execution_count": 24,
     "metadata": {},
     "output_type": "execute_result"
    }
   ],
   "source": [
    "resposta.message_log"
   ]
  },
  {
   "cell_type": "markdown",
   "metadata": {},
   "source": [
    "## Adicionando o racicínio do agent as mensagens (agent_scretchpad)\n",
    "\n",
    "Temos que adicionar junto as nossas mensagens um campo que armazenará o raciocínio atual do modelo chamado agent_scratchpad. Para isso, utilizamos um MessagesPlaceholder ao nosso prompt. Ele guardará espaço para o raciocínio e, caso o modelo não esteja gerando um raciocínio no momento, o MessagesPlaceholder não é utilizado."
   ]
  },
  {
   "cell_type": "code",
   "execution_count": 25,
   "metadata": {},
   "outputs": [],
   "source": [
    "from langchain.prompts import MessagesPlaceholder\n",
    "\n",
    "prompt = ChatPromptTemplate.from_messages([\n",
    "    ('system', 'Você é um assistente amigável chamado Isaac'),\n",
    "    ('user', '{input}'),\n",
    "    MessagesPlaceholder(variable_name='agent_scratchpad')\n",
    "])\n",
    "\n",
    "chain = prompt | chat.bind(functions=tools_json) | OpenAIFunctionsAgentOutputParser()"
   ]
  },
  {
   "cell_type": "code",
   "execution_count": 26,
   "metadata": {},
   "outputs": [
    {
     "data": {
      "text/plain": [
       "AgentActionMessageLog(tool='retorna_temperatura_atual', tool_input={'latitude': -27.5954, 'longitude': -48.548}, log=\"\\nInvoking: `retorna_temperatura_atual` with `{'latitude': -27.5954, 'longitude': -48.548}`\\n\\n\\n\", message_log=[AIMessage(content='', additional_kwargs={'function_call': {'arguments': '{\"latitude\":-27.5954,\"longitude\":-48.548}', 'name': 'retorna_temperatura_atual'}}, response_metadata={'token_usage': {'completion_tokens': 27, 'prompt_tokens': 153, 'total_tokens': 180}, 'model_name': 'gpt-3.5-turbo', 'system_fingerprint': None, 'finish_reason': 'function_call', 'logprobs': None}, id='run-722c78ea-a704-41e2-9205-564c3e8270ab-0')])"
      ]
     },
     "execution_count": 26,
     "metadata": {},
     "output_type": "execute_result"
    }
   ],
   "source": [
    "resposta_inicial = chain.invoke({\n",
    "    'input': 'Qual a temperatura em Floripa?',\n",
    "    'agent_scratchpad': []})\n",
    "resposta_inicial"
   ]
  },
  {
   "cell_type": "code",
   "execution_count": 27,
   "metadata": {},
   "outputs": [
    {
     "data": {
      "text/plain": [
       "'21.9ºC'"
      ]
     },
     "execution_count": 27,
     "metadata": {},
     "output_type": "execute_result"
    }
   ],
   "source": [
    "observacao = tool_run[resposta_inicial.tool].run(resposta_inicial.tool_input)\n",
    "observacao"
   ]
  },
  {
   "cell_type": "markdown",
   "metadata": {},
   "source": [
    "Podemos utilizar a função format_to_openai_function_messages para modificar o formato da resposta de forma que ela possa ser enviada, junto da observação, de volta ao modelo. No caso o que está ocorrendo é o modelo está pedindo que uma tool seja rodada, estamos rodando a tool e gerando uma observação, e a gora enviamos novamente para o modelo a pergunta original, a mensagem do próprio modelo dizendo que precisava que a tool fosse rodada e a observação gerada pela ferramenta."
   ]
  },
  {
   "cell_type": "code",
   "execution_count": 28,
   "metadata": {},
   "outputs": [
    {
     "data": {
      "text/plain": [
       "[AIMessage(content='', additional_kwargs={'function_call': {'arguments': '{\"latitude\":-27.5954,\"longitude\":-48.548}', 'name': 'retorna_temperatura_atual'}}, response_metadata={'token_usage': {'completion_tokens': 27, 'prompt_tokens': 153, 'total_tokens': 180}, 'model_name': 'gpt-3.5-turbo', 'system_fingerprint': None, 'finish_reason': 'function_call', 'logprobs': None}, id='run-722c78ea-a704-41e2-9205-564c3e8270ab-0'),\n",
       " FunctionMessage(content='21.9ºC', name='retorna_temperatura_atual')]"
      ]
     },
     "execution_count": 28,
     "metadata": {},
     "output_type": "execute_result"
    }
   ],
   "source": [
    "from langchain.agents.format_scratchpad import format_to_openai_function_messages\n",
    "\n",
    "format_to_openai_function_messages([(resposta_inicial, observacao)])"
   ]
  },
  {
   "cell_type": "code",
   "execution_count": 29,
   "metadata": {},
   "outputs": [
    {
     "data": {
      "text/plain": [
       "AgentFinish(return_values={'output': 'A temperatura em Florianópolis é de 21.9ºC no momento.'}, log='A temperatura em Florianópolis é de 21.9ºC no momento.')"
      ]
     },
     "execution_count": 29,
     "metadata": {},
     "output_type": "execute_result"
    }
   ],
   "source": [
    "resposta_final = chain.invoke({\n",
    "    'input': 'Qual a temperatura em Floripa?',\n",
    "    'agent_scratchpad': format_to_openai_function_messages([(resposta_inicial, observacao)])})\n",
    "resposta_final"
   ]
  },
  {
   "cell_type": "markdown",
   "metadata": {},
   "source": [
    "### Criando um loop de racicínio"
   ]
  },
  {
   "cell_type": "markdown",
   "metadata": {},
   "source": [
    "Por fim, podemos criar um loop que adiciona a automaticamente as chamadas de função e observações e fica chamando o modelo novamente até que a mensagem de AgentFinish seja recebida."
   ]
  },
  {
   "cell_type": "code",
   "execution_count": 31,
   "metadata": {},
   "outputs": [],
   "source": [
    "from langchain.schema.agent import AgentFinish\n",
    "\n",
    "def run_agent(input):\n",
    "    passos_intermediarios = []\n",
    "    while True:\n",
    "        resposta = chain.invoke({\n",
    "            'input': input,\n",
    "            'agent_scratchpad': format_to_openai_function_messages(passos_intermediarios)\n",
    "        })\n",
    "        if isinstance(resposta, AgentFinish):\n",
    "            return resposta\n",
    "        observacao = tool_run[resposta.tool].run(resposta.tool_input)\n",
    "        passos_intermediarios.append((resposta, observacao))\n"
   ]
  },
  {
   "cell_type": "code",
   "execution_count": 32,
   "metadata": {},
   "outputs": [
    {
     "data": {
      "text/plain": [
       "AgentFinish(return_values={'output': 'A temperatura atual em Florianópolis é de 21.5ºC.'}, log='A temperatura atual em Florianópolis é de 21.5ºC.')"
      ]
     },
     "execution_count": 32,
     "metadata": {},
     "output_type": "execute_result"
    }
   ],
   "source": [
    "run_agent('Qual é a temperatura de Floripa?')"
   ]
  },
  {
   "cell_type": "markdown",
   "metadata": {},
   "source": [
    "Modificamos um pouco o formato para padronizar ao funcionamento do LangChain para agents"
   ]
  },
  {
   "cell_type": "code",
   "execution_count": 38,
   "metadata": {},
   "outputs": [],
   "source": [
    "from langchain.schema.agent import AgentFinish\n",
    "from langchain.schema.runnable import RunnablePassthrough\n",
    "\n",
    "\n",
    "pass_through = RunnablePassthrough.assign(\n",
    "    agent_scratchpad = lambda x: format_to_openai_function_messages(x['intermediate_steps'])\n",
    ")\n",
    "chain = pass_through | prompt | chat.bind(functions=tools_json) | OpenAIFunctionsAgentOutputParser()\n",
    "\n",
    "def run_agent(input):\n",
    "    passos_intermediarios = []\n",
    "    while True:\n",
    "        resposta = chain.invoke({\n",
    "            'input': input,\n",
    "            'intermediate_steps': passos_intermediarios\n",
    "        })\n",
    "        if isinstance(resposta, AgentFinish):\n",
    "            return resposta\n",
    "        observacao = tool_run[resposta.tool].run(resposta.tool_input)\n",
    "        passos_intermediarios.append((resposta, observacao))\n"
   ]
  },
  {
   "cell_type": "code",
   "execution_count": 39,
   "metadata": {},
   "outputs": [
    {
     "data": {
      "text/plain": [
       "{'input': 'Qual é a temperatura de Floripa?',\n",
       " 'intermediate_steps': [],\n",
       " 'agent_scratchpad': []}"
      ]
     },
     "execution_count": 39,
     "metadata": {},
     "output_type": "execute_result"
    }
   ],
   "source": [
    "pass_through.invoke({'input': 'Qual é a temperatura de Floripa?', 'intermediate_steps': []})"
   ]
  },
  {
   "cell_type": "code",
   "execution_count": 40,
   "metadata": {},
   "outputs": [
    {
     "data": {
      "text/plain": [
       "AgentFinish(return_values={'output': 'A temperatura atual em Floripa é de 21.5ºC.'}, log='A temperatura atual em Floripa é de 21.5ºC.')"
      ]
     },
     "execution_count": 40,
     "metadata": {},
     "output_type": "execute_result"
    }
   ],
   "source": [
    "run_agent('Qual é a temperatura de Floripa?')"
   ]
  },
  {
   "cell_type": "markdown",
   "metadata": {},
   "source": [
    "## O que temos no final?"
   ]
  },
  {
   "cell_type": "markdown",
   "metadata": {},
   "source": [
    "### Um Agent"
   ]
  },
  {
   "cell_type": "code",
   "execution_count": null,
   "metadata": {},
   "outputs": [],
   "source": [
    "prompt = ChatPromptTemplate.from_messages([\n",
    "    ('system', 'Você é um assistente amigável chamado Isaac'),\n",
    "    ('user', '{input}'),\n",
    "    MessagesPlaceholder(variable_name='agent_scratchpad')\n",
    "])\n",
    "\n",
    "pass_through = RunnablePassthrough.assign(\n",
    "    agent_scratchpad = lambda x: format_to_openai_function_messages(x['intermediate_steps'])\n",
    ")\n",
    "chain = pass_through | prompt | chat.bind(functions=tools_json) | OpenAIFunctionsAgentOutputParser()"
   ]
  },
  {
   "cell_type": "markdown",
   "metadata": {},
   "source": [
    "### Um AgentExecutor"
   ]
  },
  {
   "cell_type": "code",
   "execution_count": null,
   "metadata": {},
   "outputs": [],
   "source": [
    "def run_agent(input):\n",
    "    passos_intermediarios = []\n",
    "    while True:\n",
    "        resposta = chain.invoke({\n",
    "            'input': input,\n",
    "            'intermediate_steps': passos_intermediarios\n",
    "        })\n",
    "        if isinstance(resposta, AgentFinish):\n",
    "            return resposta\n",
    "        observacao = tool_run[resposta.tool].run(resposta.tool_input)\n",
    "        passos_intermediarios.append((resposta, observacao))"
   ]
  },
  {
   "cell_type": "markdown",
   "metadata": {},
   "source": []
  }
 ],
 "metadata": {
  "kernelspec": {
   "display_name": ".venv",
   "language": "python",
   "name": "python3"
  },
  "language_info": {
   "codemirror_mode": {
    "name": "ipython",
    "version": 3
   },
   "file_extension": ".py",
   "mimetype": "text/x-python",
   "name": "python",
   "nbconvert_exporter": "python",
   "pygments_lexer": "ipython3",
   "version": "3.11.4"
  }
 },
 "nbformat": 4,
 "nbformat_minor": 2
}
