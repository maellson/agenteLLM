{
 "cells": [
  {
   "cell_type": "code",
   "execution_count": 1,
   "metadata": {},
   "outputs": [
    {
     "name": "stdout",
     "output_type": "stream",
     "text": [
      "Responda a seguinte pergunta do usuario: Qual é a capital do Brasil? \n"
     ]
    }
   ],
   "source": [
    "from langchain.llms import OpenAI\n",
    "from langchain_openai import OpenAI\n",
    "llm = OpenAI()\n",
    "\n",
    "from langchain.prompts import PromptTemplate\n",
    "\n",
    "prompt_template = PromptTemplate.from_template('''Responda a seguinte pergunta do usuario: {pergunta} ''')\n",
    "\n",
    "print(prompt_template.format(pergunta='Qual é a capital do Brasil?'))"
   ]
  },
  {
   "cell_type": "code",
   "execution_count": 2,
   "metadata": {},
   "outputs": [],
   "source": [
    "from langchain.prompts import PromptTemplate\n",
    "\n",
    "prompt_template = PromptTemplate.from_template(\n",
    "'''Responda a seguinte pergunta do usuario com até  {n_palavras} palavras: {pergunta} \n",
    "''')\n"
   ]
  },
  {
   "cell_type": "code",
   "execution_count": 3,
   "metadata": {},
   "outputs": [
    {
     "data": {
      "text/plain": [
       "'Responda a seguinte pergunta do usuario com até  5 palavras: Qual é a capital do Brasil? \\n'"
      ]
     },
     "execution_count": 3,
     "metadata": {},
     "output_type": "execute_result"
    }
   ],
   "source": [
    "prompt_template.format(n_palavras = 5, pergunta='Qual é a capital do Brasil?')\n"
   ]
  },
  {
   "cell_type": "code",
   "execution_count": 4,
   "metadata": {},
   "outputs": [
    {
     "data": {
      "text/plain": [
       "'\\nBrasília é a capital.'"
      ]
     },
     "execution_count": 4,
     "metadata": {},
     "output_type": "execute_result"
    }
   ],
   "source": [
    "llm.invoke(prompt_template.format(n_palavras = 5, pergunta='Qual é a capital do Brasil?'))"
   ]
  },
  {
   "cell_type": "code",
   "execution_count": null,
   "metadata": {},
   "outputs": [],
   "source": [
    "#Tambem e possivel definir um valor padrao para algumas variaveis direto n prompt_template usando Partial Variables\n",
    "from langchain.prompts import PromptTemplate\n",
    "\n",
    "prompt_template = PromptTemplate.from_template('''\n",
    "Responda a seguinte pergunta do usuario com até  {n_palavras} palavras: {pergunta}\n",
    "''', partial_variables={'n_palavras': 5})\n",
    "\n",
    "\n",
    "prompt_template.format(pergunta='Qual é a capital do Brasil?') #pegou o valor de 5 palavras passado no prompt_template\n",
    "\n"
   ]
  },
  {
   "cell_type": "markdown",
   "metadata": {},
   "source": [
    "### Composicao de prompt\n",
    "catalogar o que cada prompt fazar de melhor e assim poder juntar suas funções para um determinado objetivo."
   ]
  },
  {
   "cell_type": "code",
   "execution_count": 42,
   "metadata": {},
   "outputs": [],
   "source": [
    "from langchain.llms import OpenAI\n",
    "from langchain.prompts import PromptTemplate\n",
    "from langchain_openai import OpenAI\n",
    "llm = OpenAI()\n",
    "\n",
    "prompt_limite_palvaras = PromptTemplate.from_template('''\n",
    "Responda a seguinte pergunta do usuario com até  {n_palavras} palavras.\n",
    "''')\n",
    "\n",
    "prompt_resposta_tecnica_portugues = PromptTemplate.from_template('''\n",
    "Você é sempre muito cordial, sempre direto nas respostas técnicas. \n",
    "Você é um doutor especializado em Ciências de dados, e responderá sempre na lingua {lingua}.\n",
    "''')"
   ]
  },
  {
   "cell_type": "code",
   "execution_count": 43,
   "metadata": {},
   "outputs": [],
   "source": [
    "#compondo os prompts\n",
    "templateFinal = (\n",
    "    prompt_limite_palvaras\n",
    "    + prompt_resposta_tecnica_portugues\n",
    "    +'Responda a pergunta seguinte de acordo com as instrucoes: {pergunta}'\n",
    ")\n"
   ]
  },
  {
   "cell_type": "code",
   "execution_count": 44,
   "metadata": {},
   "outputs": [
    {
     "data": {
      "text/plain": [
       "PromptTemplate(input_variables=['lingua', 'n_palavras', 'pergunta'], template='\\nResponda a seguinte pergunta do usuario com até  {n_palavras} palavras.\\n\\nVocê é sempre muito cordial, sempre direto nas respostas técnicas. \\nVocê é um doutor especializado em Ciências de dados, e responderá sempre na lingua {lingua}.\\nResponda a pergunta seguinte de acordo com as instrucoes: {pergunta}')"
      ]
     },
     "execution_count": 44,
     "metadata": {},
     "output_type": "execute_result"
    }
   ],
   "source": [
    "templateFinal"
   ]
  },
  {
   "cell_type": "code",
   "execution_count": 45,
   "metadata": {},
   "outputs": [],
   "source": [
    "\n",
    "prompt = templateFinal.format(n_palavras=5, lingua='portugues do Brasil', pergunta='o que significa o termo ETL?')"
   ]
  },
  {
   "cell_type": "code",
   "execution_count": 46,
   "metadata": {},
   "outputs": [
    {
     "data": {
      "text/plain": [
       "'\\n\\nExtração, Transformação e Carregamento.'"
      ]
     },
     "execution_count": 46,
     "metadata": {},
     "output_type": "execute_result"
    }
   ],
   "source": [
    "llm.invoke(prompt)"
   ]
  }
 ],
 "metadata": {
  "kernelspec": {
   "display_name": "devPy",
   "language": "python",
   "name": "python3"
  },
  "language_info": {
   "codemirror_mode": {
    "name": "ipython",
    "version": 3
   },
   "file_extension": ".py",
   "mimetype": "text/x-python",
   "name": "python",
   "nbconvert_exporter": "python",
   "pygments_lexer": "ipython3",
   "version": "3.11.8"
  }
 },
 "nbformat": 4,
 "nbformat_minor": 2
}
