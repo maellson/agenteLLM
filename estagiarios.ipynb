{
 "cells": [
  {
   "cell_type": "markdown",
   "metadata": {},
   "source": [
    "### USANDO SLQALCHEMY\n",
    "#### Etapa 1.Conexão com o banco de dados e obtenção dos metadados\n",
    "Essa etapa irá se conectar ao banco de dados PostgreSQL e obter os metadados de todas as tabelas.\n"
   ]
  },
  {
   "cell_type": "code",
   "execution_count": null,
   "metadata": {},
   "outputs": [],
   "source": [
    "import pandas as pd\n",
    "from sqlalchemy import create_engine, text\n",
    "from dotenv import load_dotenv\n",
    "import os\n",
    "\n",
    "# Carregar variáveis do arquivo .env\n",
    "load_dotenv()\n",
    "\n",
    "# Função para conectar ao banco de dados usando SQLAlchemy\n",
    "def connect_db_sqlalchemy():\n",
    "    try:\n",
    "        # Pegar as credenciais do arquivo .env\n",
    "        db_host = os.getenv('DB_HOST')\n",
    "        db_database = os.getenv('DB_DATABASE')\n",
    "        db_user = os.getenv('DB_USER')\n",
    "        db_password = os.getenv('DB_PASSWORD')\n",
    "        db_port = os.getenv('DB_PORT')\n",
    "\n",
    "        # Criar a URL de conexão no formato aceito pelo SQLAlchemy\n",
    "        db_url = f'postgresql+psycopg2://{db_user}:{db_password}@{db_host}:{db_port}/{db_database}'\n",
    "        \n",
    "        # Criar o engine de conexão usando SQLAlchemy\n",
    "        engine = create_engine(db_url)\n",
    "        print(\"Conexão com o banco de dados estabelecida com sucesso via SQLAlchemy!\")\n",
    "        return engine\n",
    "    except Exception as e:\n",
    "        print(f\"Erro ao conectar ao banco de dados com SQLAlchemy: {e}\")\n",
    "        return None\n",
    "\n",
    "# Função para obter os metadados de todas as tabelas usando SQLAlchemy\n",
    "def get_all_table_metadata_sqlalchemy(engine):\n",
    "    try:\n",
    "        query = \"\"\"\n",
    "        SELECT table_name, column_name, data_type \n",
    "        FROM information_schema.columns \n",
    "        WHERE table_schema = 'public'\n",
    "        ORDER BY table_name;\n",
    "        \"\"\"\n",
    "        metadata_df = pd.read_sql_query(query, engine)\n",
    "        print(\"Metadados obtidos com sucesso via SQLAlchemy!\")\n",
    "        return metadata_df\n",
    "    except Exception as e:\n",
    "        print(f\"Erro ao obter metadados via SQLAlchemy: {e}\")\n",
    "        return None\n",
    "\n",
    "# Testar a conexão e obtenção de metadados com SQLAlchemy\n",
    "engine = connect_db_sqlalchemy()\n",
    "\n",
    "if engine:\n",
    "    metadata_df = get_all_table_metadata_sqlalchemy(engine)\n",
    "    if metadata_df is not None:\n",
    "        print(metadata_df.head())  # Mostrando uma amostra dos metadados obtidos\n",
    "    else:\n",
    "        print(\"Erro ao carregar metadados.\")\n",
    "else:\n",
    "    print(\"Erro na conexão com o banco de dados via SQLAlchemy.\")\n",
    "    \n"
   ]
  },
  {
   "cell_type": "code",
   "execution_count": null,
   "metadata": {},
   "outputs": [],
   "source": [
    "metadata_df\n"
   ]
  }
 ],
 "metadata": {
  "language_info": {
   "name": "python"
  }
 },
 "nbformat": 4,
 "nbformat_minor": 2
}
